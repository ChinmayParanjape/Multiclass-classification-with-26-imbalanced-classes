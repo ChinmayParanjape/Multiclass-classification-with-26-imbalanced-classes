{
 "cells": [
  {
   "cell_type": "code",
   "execution_count": 13,
   "id": "32779198",
   "metadata": {},
   "outputs": [],
   "source": [
    "import pandas as pd\n",
    "import numpy as np\n",
    "import seaborn as sns\n",
    "import matplotlib.pyplot as plt\n",
    "from ipywidgets import interact\n",
    "import warnings \n",
    "warnings.filterwarnings('ignore')\n",
    "sns.set_theme(palette='dark')\n",
    "import optuna\n",
    "from sklearn.tree import DecisionTreeClassifier\n",
    "from sklearn.ensemble import RandomForestClassifier\n",
    "from sklearn.naive_bayes import GaussianNB\n",
    "from sklearn.neighbors import KNeighborsClassifier\n",
    "from sklearn.svm import SVC\n",
    "from sklearn.neural_network import MLPClassifier\n",
    "from sklearn.ensemble import AdaBoostClassifier\n",
    "from sklearn.ensemble import GradientBoostingClassifier\n",
    "from sklearn.ensemble import ExtraTreesClassifier\n",
    "from sklearn.linear_model import LogisticRegression\n",
    "from sklearn.model_selection import train_test_split\n",
    "from sklearn.metrics import accuracy_score\n",
    "from sklearn.preprocessing import LabelEncoder\n",
    "from xgboost import XGBClassifier\n",
    "from catboost import CatBoostClassifier\n",
    "from sklearn.metrics import accuracy_score\n",
    "from sklearn.metrics import classification_report\n",
    "from sklearn.ensemble import VotingClassifier\n",
    "from sklearn.model_selection import train_test_split,cross_val_score\n",
    "from sklearn.ensemble import RandomForestClassifier,GradientBoostingClassifier\n",
    "from sklearn.metrics import classification_report\n",
    "from sklearn.preprocessing import StandardScaler\n",
    "from sklearn.metrics import accuracy_score\n",
    "from sklearn.preprocessing import LabelEncoder\n",
    "from imblearn.over_sampling import RandomOverSampler\n",
    "from xgboost import XGBClassifier\n",
    "from sklearn.neural_network import MLPClassifier\n",
    "import pickle\n",
    "import joblib\n",
    "from joblib import Parallel,delayed"
   ]
  },
  {
   "cell_type": "code",
   "execution_count": 2,
   "id": "69f483ac",
   "metadata": {},
   "outputs": [],
   "source": [
    "df = pd.read_csv('train_CloudCondition.csv')"
   ]
  },
  {
   "cell_type": "code",
   "execution_count": 3,
   "id": "bd6473f7",
   "metadata": {},
   "outputs": [],
   "source": [
    "temp = df.dropna(axis=0)\n",
    "df = temp"
   ]
  },
  {
   "cell_type": "code",
   "execution_count": 4,
   "id": "0c3354e5",
   "metadata": {},
   "outputs": [],
   "source": [
    "df['Temperature (C)'] = np.where(df['Temperature (C)']=='-','-10',df['Temperature (C)'])\n",
    "lis = df['Temperature (C)']\n",
    "new = []\n",
    "for i in lis:\n",
    "    new.append(float(i))\n",
    "df['Temperature (C)'] = new"
   ]
  },
  {
   "cell_type": "code",
   "execution_count": 5,
   "id": "3b72d1b5",
   "metadata": {},
   "outputs": [
    {
     "name": "stdout",
     "output_type": "stream",
     "text": [
      "<class 'pandas.core.frame.DataFrame'>\n",
      "Int64Index: 70939 entries, 0 to 71427\n",
      "Data columns (total 12 columns):\n",
      " #   Column                      Non-Null Count  Dtype  \n",
      "---  ------                      --------------  -----  \n",
      " 0   Day                         70939 non-null  int64  \n",
      " 1   Cloud_Condition             70939 non-null  object \n",
      " 2   Rain_OR_SNOW                70939 non-null  object \n",
      " 3   Temperature (C)             70939 non-null  float64\n",
      " 4   Apparent Temperature (C)    70939 non-null  float64\n",
      " 5   Humidity                    70939 non-null  float64\n",
      " 6   Wind Speed (km/h)           70939 non-null  float64\n",
      " 7   Wind Bearing (degrees)      70939 non-null  float64\n",
      " 8   Visibility (km)             70939 non-null  float64\n",
      " 9   Pressure (millibars)        70939 non-null  float64\n",
      " 10  Condensation                70939 non-null  object \n",
      " 11  Solar irradiance intensity  70939 non-null  int64  \n",
      "dtypes: float64(7), int64(2), object(3)\n",
      "memory usage: 7.0+ MB\n"
     ]
    }
   ],
   "source": [
    "df.info()"
   ]
  },
  {
   "cell_type": "code",
   "execution_count": 7,
   "id": "bb7477cc",
   "metadata": {},
   "outputs": [],
   "source": [
    "encoder = LabelEncoder()\n",
    "df['Cloud_Condition'] = encoder.fit_transform(df['Cloud_Condition'])"
   ]
  },
  {
   "cell_type": "code",
   "execution_count": 8,
   "id": "9ad41a73",
   "metadata": {},
   "outputs": [],
   "source": [
    "x = df.drop(['Day','Cloud_Condition'],axis=1)\n",
    "y = df['Cloud_Condition']\n",
    "scale = StandardScaler()\n",
    "x[['Apparent Temperature (C)','Humidity','Wind Speed (km/h)','Wind Bearing (degrees)',\n",
    "                         'Visibility (km)',\n",
    "                        'Pressure (millibars)','Solar irradiance intensity','Temperature (C)']]=scale.fit_transform(x[['Apparent Temperature (C)','Humidity','Wind Speed (km/h)','Wind Bearing (degrees)',\n",
    "                         'Visibility (km)',\n",
    "                        'Pressure (millibars)','Solar irradiance intensity','Temperature (C)']])\n",
    "x = pd.get_dummies(x)"
   ]
  },
  {
   "cell_type": "code",
   "execution_count": 9,
   "id": "d3f34652",
   "metadata": {},
   "outputs": [
    {
     "data": {
      "text/html": [
       "<div>\n",
       "<style scoped>\n",
       "    .dataframe tbody tr th:only-of-type {\n",
       "        vertical-align: middle;\n",
       "    }\n",
       "\n",
       "    .dataframe tbody tr th {\n",
       "        vertical-align: top;\n",
       "    }\n",
       "\n",
       "    .dataframe thead th {\n",
       "        text-align: right;\n",
       "    }\n",
       "</style>\n",
       "<table border=\"1\" class=\"dataframe\">\n",
       "  <thead>\n",
       "    <tr style=\"text-align: right;\">\n",
       "      <th></th>\n",
       "      <th>Temperature (C)</th>\n",
       "      <th>Apparent Temperature (C)</th>\n",
       "      <th>Humidity</th>\n",
       "      <th>Wind Speed (km/h)</th>\n",
       "      <th>Wind Bearing (degrees)</th>\n",
       "      <th>Visibility (km)</th>\n",
       "      <th>Pressure (millibars)</th>\n",
       "      <th>Solar irradiance intensity</th>\n",
       "      <th>Rain_OR_SNOW_rain</th>\n",
       "      <th>Rain_OR_SNOW_snow</th>\n",
       "      <th>Condensation_Dry</th>\n",
       "      <th>Condensation_Fog</th>\n",
       "      <th>Condensation_Frost</th>\n",
       "      <th>Condensation_Mist</th>\n",
       "    </tr>\n",
       "  </thead>\n",
       "  <tbody>\n",
       "    <tr>\n",
       "      <th>0</th>\n",
       "      <td>-1.245416</td>\n",
       "      <td>-1.286016</td>\n",
       "      <td>-1.266865</td>\n",
       "      <td>-0.784853</td>\n",
       "      <td>-1.072012</td>\n",
       "      <td>-0.817948</td>\n",
       "      <td>-1.104739</td>\n",
       "      <td>-1.254498</td>\n",
       "      <td>1</td>\n",
       "      <td>0</td>\n",
       "      <td>0</td>\n",
       "      <td>0</td>\n",
       "      <td>1</td>\n",
       "      <td>0</td>\n",
       "    </tr>\n",
       "    <tr>\n",
       "      <th>1</th>\n",
       "      <td>0.342674</td>\n",
       "      <td>-0.028980</td>\n",
       "      <td>1.196975</td>\n",
       "      <td>-1.271107</td>\n",
       "      <td>1.077728</td>\n",
       "      <td>-1.225382</td>\n",
       "      <td>0.960256</td>\n",
       "      <td>0.285282</td>\n",
       "      <td>1</td>\n",
       "      <td>0</td>\n",
       "      <td>0</td>\n",
       "      <td>0</td>\n",
       "      <td>1</td>\n",
       "      <td>0</td>\n",
       "    </tr>\n",
       "    <tr>\n",
       "      <th>2</th>\n",
       "      <td>1.363589</td>\n",
       "      <td>-0.919381</td>\n",
       "      <td>0.907911</td>\n",
       "      <td>0.025570</td>\n",
       "      <td>-1.419055</td>\n",
       "      <td>-0.003078</td>\n",
       "      <td>-1.399738</td>\n",
       "      <td>1.265769</td>\n",
       "      <td>1</td>\n",
       "      <td>0</td>\n",
       "      <td>1</td>\n",
       "      <td>0</td>\n",
       "      <td>0</td>\n",
       "      <td>0</td>\n",
       "    </tr>\n",
       "    <tr>\n",
       "      <th>3</th>\n",
       "      <td>1.193436</td>\n",
       "      <td>1.594693</td>\n",
       "      <td>-0.849799</td>\n",
       "      <td>-0.892909</td>\n",
       "      <td>-0.474326</td>\n",
       "      <td>-1.021665</td>\n",
       "      <td>-0.514740</td>\n",
       "      <td>1.106958</td>\n",
       "      <td>0</td>\n",
       "      <td>1</td>\n",
       "      <td>1</td>\n",
       "      <td>0</td>\n",
       "      <td>0</td>\n",
       "      <td>0</td>\n",
       "    </tr>\n",
       "    <tr>\n",
       "      <th>4</th>\n",
       "      <td>1.023284</td>\n",
       "      <td>1.280434</td>\n",
       "      <td>-0.019272</td>\n",
       "      <td>1.700443</td>\n",
       "      <td>-1.149132</td>\n",
       "      <td>1.422942</td>\n",
       "      <td>-1.178489</td>\n",
       "      <td>0.975766</td>\n",
       "      <td>0</td>\n",
       "      <td>1</td>\n",
       "      <td>0</td>\n",
       "      <td>1</td>\n",
       "      <td>0</td>\n",
       "      <td>0</td>\n",
       "    </tr>\n",
       "  </tbody>\n",
       "</table>\n",
       "</div>"
      ],
      "text/plain": [
       "   Temperature (C)  Apparent Temperature (C)  Humidity  Wind Speed (km/h)  \\\n",
       "0        -1.245416                 -1.286016 -1.266865          -0.784853   \n",
       "1         0.342674                 -0.028980  1.196975          -1.271107   \n",
       "2         1.363589                 -0.919381  0.907911           0.025570   \n",
       "3         1.193436                  1.594693 -0.849799          -0.892909   \n",
       "4         1.023284                  1.280434 -0.019272           1.700443   \n",
       "\n",
       "   Wind Bearing (degrees)  Visibility (km)  Pressure (millibars)  \\\n",
       "0               -1.072012        -0.817948             -1.104739   \n",
       "1                1.077728        -1.225382              0.960256   \n",
       "2               -1.419055        -0.003078             -1.399738   \n",
       "3               -0.474326        -1.021665             -0.514740   \n",
       "4               -1.149132         1.422942             -1.178489   \n",
       "\n",
       "   Solar irradiance intensity  Rain_OR_SNOW_rain  Rain_OR_SNOW_snow  \\\n",
       "0                   -1.254498                  1                  0   \n",
       "1                    0.285282                  1                  0   \n",
       "2                    1.265769                  1                  0   \n",
       "3                    1.106958                  0                  1   \n",
       "4                    0.975766                  0                  1   \n",
       "\n",
       "   Condensation_Dry  Condensation_Fog  Condensation_Frost  Condensation_Mist  \n",
       "0                 0                 0                   1                  0  \n",
       "1                 0                 0                   1                  0  \n",
       "2                 1                 0                   0                  0  \n",
       "3                 1                 0                   0                  0  \n",
       "4                 0                 1                   0                  0  "
      ]
     },
     "execution_count": 9,
     "metadata": {},
     "output_type": "execute_result"
    }
   ],
   "source": [
    "x.head()"
   ]
  },
  {
   "cell_type": "code",
   "execution_count": 10,
   "id": "ab46dd3f",
   "metadata": {},
   "outputs": [
    {
     "name": "stdout",
     "output_type": "stream",
     "text": [
      "Original dataset shape (70939,)\n",
      "Resample dataset shape (92799,)\n"
     ]
    }
   ],
   "source": [
    "\n",
    "rus = RandomOverSampler(random_state=47,sampling_strategy='minority')\n",
    "\n",
    "x_rus1, y_rus1 = rus.fit_resample(x, y)\n",
    "\n",
    "print('Original dataset shape', y.shape)\n",
    "print('Resample dataset shape', y_rus1.shape)"
   ]
  },
  {
   "cell_type": "markdown",
   "id": "4a52e116",
   "metadata": {},
   "source": [
    "# XGboost"
   ]
  },
  {
   "cell_type": "code",
   "execution_count": 37,
   "id": "a1b42cd5",
   "metadata": {},
   "outputs": [
    {
     "name": "stdout",
     "output_type": "stream",
     "text": [
      "\n",
      "0.6683446481626872\n",
      "-x--x--x--x--x--x--x--x--x--x--x--x--x--x--x--x--x--x--x--x-\n",
      "0.46663074712643676\n"
     ]
    }
   ],
   "source": [
    "x_train,x_test,y_train,y_test = train_test_split(x_rus1,y_rus1,random_state=47,test_size=0.3)\n",
    "\n",
    "xgb = XGBClassifier()\n",
    "xgb.fit(x_train,y_train)\n",
    "train_pred = xgb.predict(x_train)\n",
    "test_pred = xgb.predict(x_test)\n",
    "print()\n",
    "print(accuracy_score(train_pred,y_train))\n",
    "print('-x-'*20)\n",
    "print(accuracy_score(test_pred,y_test))"
   ]
  },
  {
   "cell_type": "markdown",
   "id": "e3231023",
   "metadata": {},
   "source": [
    "def objective(trial):\n",
    "    n_estimators = trial.suggest_int('n_estimators',10,300)\n",
    "    max_depth = trial.suggest_int('max_depth',2,7)\n",
    "    learning_rate = trial.suggest_float('learning_rate',0.01, 0.3, log=True)\n",
    "    subsample = trial.suggest_float('subsample',0.5, 1, log=True)\n",
    "    colsample_bytree = trial.suggest_float('colsample_bytree',0.5, 1, log=True)\n",
    "    reg_lambda = trial.suggest_float('reg_lambda',0.1, 10, log=True)\n",
    "    reg_alpha = trial.suggest_float('reg_alpha',0.1, 10, log=True)\n",
    "\n",
    "    objective = trial.suggest_categorical('objective',['softmax','softprob'])\n",
    "    eval_metric = trial.suggest_categorical('eval_metric',['merror','mlogloss'])\n",
    "    model = XGBClassifier(n_estimators=n_estimators,max_depth=max_depth,learning_rate=learning_rate,\n",
    "                         subsample=subsample,colsample_bytree=colsample_bytree,reg_lambda=reg_lambda,\n",
    "                         reg_alpha=reg_alpha,objective=objective,eval_metric=eval_metric)\n",
    "    cv_score = np.mean(cross_val_score(model,x_train,y_train,scoring = 'f1',cv=5))\n",
    "    return cv_score\n",
    "3. Create a study object and optimize the objective function.\n",
    "study = optuna.create_study(direction='maximize')\n",
    "study.optimize(objective, n_trials=3)"
   ]
  },
  {
   "cell_type": "markdown",
   "id": "2577da71",
   "metadata": {},
   "source": [
    "# GradientBoost"
   ]
  },
  {
   "cell_type": "code",
   "execution_count": 38,
   "id": "28c6af01",
   "metadata": {},
   "outputs": [
    {
     "name": "stdout",
     "output_type": "stream",
     "text": [
      "\n",
      "0.5066272571929986\n",
      "-x--x--x--x--x--x--x--x--x--x--x--x--x--x--x--x--x--x--x--x-\n",
      "0.4807830459770115\n"
     ]
    }
   ],
   "source": [
    "grd = GradientBoostingClassifier()\n",
    "grd.fit(x_train,y_train)\n",
    "train_pred = grd.predict(x_train)\n",
    "test_pred = grd.predict(x_test)\n",
    "print()\n",
    "print(accuracy_score(train_pred,y_train))\n",
    "print('-x-'*20)\n",
    "print(accuracy_score(test_pred,y_test))"
   ]
  },
  {
   "cell_type": "markdown",
   "id": "615ae555",
   "metadata": {
    "run_control": {
     "marked": true
    }
   },
   "source": [
    "def objective(trial):\n",
    "    n_estimators = trial.suggest_int('n_estimators',10,300)\n",
    "    learning_rate = trial.suggest_float('learning_rate',1e-7, 2, log=True)\n",
    "    min_impurity_decrease = trial.suggest_float('min_impurity_decrease',0.19, 2, log=True)\n",
    "    subsample = trial.suggest_float('subsample',1e-6, 1, log=True)\n",
    "    min_samples_split = trial.suggest_float('min_samples_split',1e-6, 0.99, log=True)\n",
    "    min_weight_fraction_leaf = trial.suggest_float('min_weight_fraction_leaf',1e-6, 0.49, log=True)\n",
    "    ccp_alpha = trial.suggest_float('ccp_alpha',0.1, 5, log=True)\n",
    "    random_state= trial.suggest_int('random_state',1,100)\n",
    "    criterion = trial.suggest_categorical('criterion',['friedman_mse','squared_error','mse'])\n",
    "    max_depth = trial.suggest_int('max_depth',2,7)\n",
    "    max_leaf_nodes = trial.suggest_int('max_leaf_nodes',2,5)\n",
    "    model = GradientBoostingClassifier(n_estimators=n_estimators,learning_rate=learning_rate,\n",
    "                                       min_impurity_decrease=min_impurity_decrease,\n",
    "                                      subsample=subsample,min_samples_split=min_samples_split,\n",
    "                                       min_weight_fraction_leaf=min_weight_fraction_leaf,\n",
    "                                      ccp_alpha=ccp_alpha,random_state=random_state,criterion=criterion,\n",
    "                                      max_depth=max_depth,max_leaf_nodes=max_leaf_nodes,warm_start=True,validation_fraction=0.2)\n",
    "    score = np.mean(cross_val_score(model,x_train,y_train,scoring='f1_macro'))\n",
    "    return score\n",
    "3. Create a study object and optimize the objective function.\n",
    "study = optuna.create_study(direction='maximize')\n",
    "study.optimize(objective, n_trials=10)"
   ]
  },
  {
   "cell_type": "markdown",
   "id": "b73830f2",
   "metadata": {},
   "source": [
    "# MLP"
   ]
  },
  {
   "cell_type": "code",
   "execution_count": 39,
   "id": "74984fb2",
   "metadata": {},
   "outputs": [
    {
     "name": "stdout",
     "output_type": "stream",
     "text": [
      "\n",
      "0.4936498406687295\n",
      "-x--x--x--x--x--x--x--x--x--x--x--x--x--x--x--x--x--x--x--x-\n",
      "0.47248563218390804\n"
     ]
    }
   ],
   "source": [
    "mlp = MLPClassifier(random_state=47, max_iter=300)\n",
    "mlp.fit(x_train,y_train)\n",
    "train_pred = mlp.predict(x_train)\n",
    "test_pred = mlp.predict(x_test)\n",
    "print()\n",
    "print(accuracy_score(train_pred,y_train))\n",
    "print('-x-'*20)\n",
    "print(accuracy_score(test_pred,y_test))"
   ]
  },
  {
   "cell_type": "code",
   "execution_count": 29,
   "id": "a7b984eb",
   "metadata": {},
   "outputs": [
    {
     "name": "stdout",
     "output_type": "stream",
     "text": [
      "Neural Network : 0.46979166666666666\n",
      "LogisticRegression : 0.4844109195402299\n",
      "ExtraTreesClassifier : 0.46404454022988506\n",
      "DecisionTree : 0.41052442528735633\n",
      "RandomForest : 0.4687859195402299\n",
      "Naive Bayes : 0.254992816091954\n",
      "KNeighbours : 0.42945402298850577\n",
      "SVM : 0.4849137931034483\n",
      "AdaBoostClassifier : 0.23617097701149425\n",
      "GradientBoostingClassifier:  0.48085488505747126\n",
      "XGB : 0.46663074712643676\n",
      "CatBoost : 0.47079741379310347\n"
     ]
    }
   ],
   "source": [
    "classifiers = [['Neural Network :', MLPClassifier(max_iter = 1000)],\n",
    "               ['LogisticRegression :', LogisticRegression(max_iter = 1000)],\n",
    "               ['ExtraTreesClassifier :', ExtraTreesClassifier()],\n",
    "               ['DecisionTree :',DecisionTreeClassifier()],\n",
    "               ['RandomForest :',RandomForestClassifier()], \n",
    "               ['Naive Bayes :', GaussianNB()],\n",
    "               ['KNeighbours :', KNeighborsClassifier()],\n",
    "               ['SVM :', SVC()],\n",
    "               ['AdaBoostClassifier :', AdaBoostClassifier()],\n",
    "               ['GradientBoostingClassifier: ', GradientBoostingClassifier()],\n",
    "               ['XGB :', XGBClassifier()],\n",
    "               ['CatBoost :', CatBoostClassifier(logging_level='Silent')]]\n",
    "\n",
    "predictions_df = pd.DataFrame()\n",
    "predictions_df['action'] = y_test\n",
    "\n",
    "for name,classifier in classifiers:\n",
    "    classifier = classifier\n",
    "    classifier.fit(x_train,y_train)\n",
    "    predictions = classifier.predict(x_test)\n",
    "    predictions_df[name.strip(\" :\")] = predictions\n",
    "    print(name, accuracy_score(y_test, predictions))"
   ]
  },
  {
   "cell_type": "code",
   "execution_count": 40,
   "id": "8600988b",
   "metadata": {},
   "outputs": [],
   "source": [
    "x_train,x_test,y_train,y_test = train_test_split(x_rus1,y_rus1,random_state=47,test_size=0.2)"
   ]
  },
  {
   "cell_type": "code",
   "execution_count": 68,
   "id": "c7b425a4",
   "metadata": {},
   "outputs": [
    {
     "data": {
      "text/plain": [
       "['votting.pkl']"
      ]
     },
     "execution_count": 68,
     "metadata": {},
     "output_type": "execute_result"
    }
   ],
   "source": [
    "#joblib.dump(xgb,'xgboost.pkl')\n",
    "#joblib.dump(vote,'votting.pkl')\n",
    "#model = joblib.load('votting_model.pkl')"
   ]
  },
  {
   "cell_type": "code",
   "execution_count": 12,
   "id": "310b65b3",
   "metadata": {},
   "outputs": [],
   "source": [
    "xgb = joblib.load('xgboost.pkl')\n",
    "grd = joblib.load('gredient.pkl')"
   ]
  },
  {
   "cell_type": "code",
   "execution_count": 65,
   "id": "3a3ec3f7",
   "metadata": {},
   "outputs": [],
   "source": [
    "logi = LogisticRegression()\n",
    "mlp = MLPClassifier(random_state=47, max_iter=300)\n",
    "svm = SVC()\n",
    "cat = CatBoostClassifier(logging_level='Silent')"
   ]
  },
  {
   "cell_type": "code",
   "execution_count": 66,
   "id": "80fc497c",
   "metadata": {},
   "outputs": [
    {
     "data": {
      "text/html": [
       "<style>#sk-container-id-9 {color: black;background-color: white;}#sk-container-id-9 pre{padding: 0;}#sk-container-id-9 div.sk-toggleable {background-color: white;}#sk-container-id-9 label.sk-toggleable__label {cursor: pointer;display: block;width: 100%;margin-bottom: 0;padding: 0.3em;box-sizing: border-box;text-align: center;}#sk-container-id-9 label.sk-toggleable__label-arrow:before {content: \"▸\";float: left;margin-right: 0.25em;color: #696969;}#sk-container-id-9 label.sk-toggleable__label-arrow:hover:before {color: black;}#sk-container-id-9 div.sk-estimator:hover label.sk-toggleable__label-arrow:before {color: black;}#sk-container-id-9 div.sk-toggleable__content {max-height: 0;max-width: 0;overflow: hidden;text-align: left;background-color: #f0f8ff;}#sk-container-id-9 div.sk-toggleable__content pre {margin: 0.2em;color: black;border-radius: 0.25em;background-color: #f0f8ff;}#sk-container-id-9 input.sk-toggleable__control:checked~div.sk-toggleable__content {max-height: 200px;max-width: 100%;overflow: auto;}#sk-container-id-9 input.sk-toggleable__control:checked~label.sk-toggleable__label-arrow:before {content: \"▾\";}#sk-container-id-9 div.sk-estimator input.sk-toggleable__control:checked~label.sk-toggleable__label {background-color: #d4ebff;}#sk-container-id-9 div.sk-label input.sk-toggleable__control:checked~label.sk-toggleable__label {background-color: #d4ebff;}#sk-container-id-9 input.sk-hidden--visually {border: 0;clip: rect(1px 1px 1px 1px);clip: rect(1px, 1px, 1px, 1px);height: 1px;margin: -1px;overflow: hidden;padding: 0;position: absolute;width: 1px;}#sk-container-id-9 div.sk-estimator {font-family: monospace;background-color: #f0f8ff;border: 1px dotted black;border-radius: 0.25em;box-sizing: border-box;margin-bottom: 0.5em;}#sk-container-id-9 div.sk-estimator:hover {background-color: #d4ebff;}#sk-container-id-9 div.sk-parallel-item::after {content: \"\";width: 100%;border-bottom: 1px solid gray;flex-grow: 1;}#sk-container-id-9 div.sk-label:hover label.sk-toggleable__label {background-color: #d4ebff;}#sk-container-id-9 div.sk-serial::before {content: \"\";position: absolute;border-left: 1px solid gray;box-sizing: border-box;top: 0;bottom: 0;left: 50%;z-index: 0;}#sk-container-id-9 div.sk-serial {display: flex;flex-direction: column;align-items: center;background-color: white;padding-right: 0.2em;padding-left: 0.2em;position: relative;}#sk-container-id-9 div.sk-item {position: relative;z-index: 1;}#sk-container-id-9 div.sk-parallel {display: flex;align-items: stretch;justify-content: center;background-color: white;position: relative;}#sk-container-id-9 div.sk-item::before, #sk-container-id-9 div.sk-parallel-item::before {content: \"\";position: absolute;border-left: 1px solid gray;box-sizing: border-box;top: 0;bottom: 0;left: 50%;z-index: -1;}#sk-container-id-9 div.sk-parallel-item {display: flex;flex-direction: column;z-index: 1;position: relative;background-color: white;}#sk-container-id-9 div.sk-parallel-item:first-child::after {align-self: flex-end;width: 50%;}#sk-container-id-9 div.sk-parallel-item:last-child::after {align-self: flex-start;width: 50%;}#sk-container-id-9 div.sk-parallel-item:only-child::after {width: 0;}#sk-container-id-9 div.sk-dashed-wrapped {border: 1px dashed gray;margin: 0 0.4em 0.5em 0.4em;box-sizing: border-box;padding-bottom: 0.4em;background-color: white;}#sk-container-id-9 div.sk-label label {font-family: monospace;font-weight: bold;display: inline-block;line-height: 1.2em;}#sk-container-id-9 div.sk-label-container {text-align: center;}#sk-container-id-9 div.sk-container {/* jupyter's `normalize.less` sets `[hidden] { display: none; }` but bootstrap.min.css set `[hidden] { display: none !important; }` so we also need the `!important` here to be able to override the default hidden behavior on the sphinx rendered scikit-learn.org. See: https://github.com/scikit-learn/scikit-learn/issues/21755 */display: inline-block !important;position: relative;}#sk-container-id-9 div.sk-text-repr-fallback {display: none;}</style><div id=\"sk-container-id-9\" class=\"sk-top-container\"><div class=\"sk-text-repr-fallback\"><pre>VotingClassifier(estimators=[(&#x27;xgb&#x27;,\n",
       "                              XGBClassifier(base_score=None, booster=None,\n",
       "                                            callbacks=None,\n",
       "                                            colsample_bylevel=None,\n",
       "                                            colsample_bynode=None,\n",
       "                                            colsample_bytree=None,\n",
       "                                            early_stopping_rounds=None,\n",
       "                                            enable_categorical=False,\n",
       "                                            eval_metric=None, gamma=None,\n",
       "                                            gpu_id=None, grow_policy=None,\n",
       "                                            importance_type=None,\n",
       "                                            interaction_constraints=None,\n",
       "                                            learning_rate=None, max_bin=Non...\n",
       "                                            max_delta_step=None, max_depth=None,\n",
       "                                            max_leaves=None,\n",
       "                                            min_child_weight=None, missing=nan,\n",
       "                                            monotone_constraints=None,\n",
       "                                            n_estimators=100, n_jobs=None,\n",
       "                                            num_parallel_tree=None,\n",
       "                                            predictor=None, random_state=None,\n",
       "                                            reg_alpha=None, reg_lambda=None, ...)),\n",
       "                             (&#x27;grad&#x27;, GradientBoostingClassifier()),\n",
       "                             (&#x27;logi&#x27;, LogisticRegression()),\n",
       "                             (&#x27;mlp&#x27;,\n",
       "                              MLPClassifier(max_iter=300, random_state=47)),\n",
       "                             (&#x27;svm&#x27;, SVC())])</pre><b>In a Jupyter environment, please rerun this cell to show the HTML representation or trust the notebook. <br />On GitHub, the HTML representation is unable to render, please try loading this page with nbviewer.org.</b></div><div class=\"sk-container\" hidden><div class=\"sk-item sk-dashed-wrapped\"><div class=\"sk-label-container\"><div class=\"sk-label sk-toggleable\"><input class=\"sk-toggleable__control sk-hidden--visually\" id=\"sk-estimator-id-18\" type=\"checkbox\" ><label for=\"sk-estimator-id-18\" class=\"sk-toggleable__label sk-toggleable__label-arrow\">VotingClassifier</label><div class=\"sk-toggleable__content\"><pre>VotingClassifier(estimators=[(&#x27;xgb&#x27;,\n",
       "                              XGBClassifier(base_score=None, booster=None,\n",
       "                                            callbacks=None,\n",
       "                                            colsample_bylevel=None,\n",
       "                                            colsample_bynode=None,\n",
       "                                            colsample_bytree=None,\n",
       "                                            early_stopping_rounds=None,\n",
       "                                            enable_categorical=False,\n",
       "                                            eval_metric=None, gamma=None,\n",
       "                                            gpu_id=None, grow_policy=None,\n",
       "                                            importance_type=None,\n",
       "                                            interaction_constraints=None,\n",
       "                                            learning_rate=None, max_bin=Non...\n",
       "                                            max_delta_step=None, max_depth=None,\n",
       "                                            max_leaves=None,\n",
       "                                            min_child_weight=None, missing=nan,\n",
       "                                            monotone_constraints=None,\n",
       "                                            n_estimators=100, n_jobs=None,\n",
       "                                            num_parallel_tree=None,\n",
       "                                            predictor=None, random_state=None,\n",
       "                                            reg_alpha=None, reg_lambda=None, ...)),\n",
       "                             (&#x27;grad&#x27;, GradientBoostingClassifier()),\n",
       "                             (&#x27;logi&#x27;, LogisticRegression()),\n",
       "                             (&#x27;mlp&#x27;,\n",
       "                              MLPClassifier(max_iter=300, random_state=47)),\n",
       "                             (&#x27;svm&#x27;, SVC())])</pre></div></div></div><div class=\"sk-parallel\"><div class=\"sk-parallel-item\"><div class=\"sk-item\"><div class=\"sk-label-container\"><div class=\"sk-label sk-toggleable\"><label>xgb</label></div></div><div class=\"sk-serial\"><div class=\"sk-item\"><div class=\"sk-estimator sk-toggleable\"><input class=\"sk-toggleable__control sk-hidden--visually\" id=\"sk-estimator-id-19\" type=\"checkbox\" ><label for=\"sk-estimator-id-19\" class=\"sk-toggleable__label sk-toggleable__label-arrow\">XGBClassifier</label><div class=\"sk-toggleable__content\"><pre>XGBClassifier(base_score=None, booster=None, callbacks=None,\n",
       "              colsample_bylevel=None, colsample_bynode=None,\n",
       "              colsample_bytree=None, early_stopping_rounds=None,\n",
       "              enable_categorical=False, eval_metric=None, gamma=None,\n",
       "              gpu_id=None, grow_policy=None, importance_type=None,\n",
       "              interaction_constraints=None, learning_rate=None, max_bin=None,\n",
       "              max_cat_to_onehot=None, max_delta_step=None, max_depth=None,\n",
       "              max_leaves=None, min_child_weight=None, missing=nan,\n",
       "              monotone_constraints=None, n_estimators=100, n_jobs=None,\n",
       "              num_parallel_tree=None, predictor=None, random_state=None,\n",
       "              reg_alpha=None, reg_lambda=None, ...)</pre></div></div></div></div></div></div><div class=\"sk-parallel-item\"><div class=\"sk-item\"><div class=\"sk-label-container\"><div class=\"sk-label sk-toggleable\"><label>grad</label></div></div><div class=\"sk-serial\"><div class=\"sk-item\"><div class=\"sk-estimator sk-toggleable\"><input class=\"sk-toggleable__control sk-hidden--visually\" id=\"sk-estimator-id-20\" type=\"checkbox\" ><label for=\"sk-estimator-id-20\" class=\"sk-toggleable__label sk-toggleable__label-arrow\">GradientBoostingClassifier</label><div class=\"sk-toggleable__content\"><pre>GradientBoostingClassifier()</pre></div></div></div></div></div></div><div class=\"sk-parallel-item\"><div class=\"sk-item\"><div class=\"sk-label-container\"><div class=\"sk-label sk-toggleable\"><label>logi</label></div></div><div class=\"sk-serial\"><div class=\"sk-item\"><div class=\"sk-estimator sk-toggleable\"><input class=\"sk-toggleable__control sk-hidden--visually\" id=\"sk-estimator-id-21\" type=\"checkbox\" ><label for=\"sk-estimator-id-21\" class=\"sk-toggleable__label sk-toggleable__label-arrow\">LogisticRegression</label><div class=\"sk-toggleable__content\"><pre>LogisticRegression()</pre></div></div></div></div></div></div><div class=\"sk-parallel-item\"><div class=\"sk-item\"><div class=\"sk-label-container\"><div class=\"sk-label sk-toggleable\"><label>mlp</label></div></div><div class=\"sk-serial\"><div class=\"sk-item\"><div class=\"sk-estimator sk-toggleable\"><input class=\"sk-toggleable__control sk-hidden--visually\" id=\"sk-estimator-id-22\" type=\"checkbox\" ><label for=\"sk-estimator-id-22\" class=\"sk-toggleable__label sk-toggleable__label-arrow\">MLPClassifier</label><div class=\"sk-toggleable__content\"><pre>MLPClassifier(max_iter=300, random_state=47)</pre></div></div></div></div></div></div><div class=\"sk-parallel-item\"><div class=\"sk-item\"><div class=\"sk-label-container\"><div class=\"sk-label sk-toggleable\"><label>svm</label></div></div><div class=\"sk-serial\"><div class=\"sk-item\"><div class=\"sk-estimator sk-toggleable\"><input class=\"sk-toggleable__control sk-hidden--visually\" id=\"sk-estimator-id-23\" type=\"checkbox\" ><label for=\"sk-estimator-id-23\" class=\"sk-toggleable__label sk-toggleable__label-arrow\">SVC</label><div class=\"sk-toggleable__content\"><pre>SVC()</pre></div></div></div></div></div></div></div></div></div></div>"
      ],
      "text/plain": [
       "VotingClassifier(estimators=[('xgb',\n",
       "                              XGBClassifier(base_score=None, booster=None,\n",
       "                                            callbacks=None,\n",
       "                                            colsample_bylevel=None,\n",
       "                                            colsample_bynode=None,\n",
       "                                            colsample_bytree=None,\n",
       "                                            early_stopping_rounds=None,\n",
       "                                            enable_categorical=False,\n",
       "                                            eval_metric=None, gamma=None,\n",
       "                                            gpu_id=None, grow_policy=None,\n",
       "                                            importance_type=None,\n",
       "                                            interaction_constraints=None,\n",
       "                                            learning_rate=None, max_bin=Non...\n",
       "                                            max_delta_step=None, max_depth=None,\n",
       "                                            max_leaves=None,\n",
       "                                            min_child_weight=None, missing=nan,\n",
       "                                            monotone_constraints=None,\n",
       "                                            n_estimators=100, n_jobs=None,\n",
       "                                            num_parallel_tree=None,\n",
       "                                            predictor=None, random_state=None,\n",
       "                                            reg_alpha=None, reg_lambda=None, ...)),\n",
       "                             ('grad', GradientBoostingClassifier()),\n",
       "                             ('logi', LogisticRegression()),\n",
       "                             ('mlp',\n",
       "                              MLPClassifier(max_iter=300, random_state=47)),\n",
       "                             ('svm', SVC())])"
      ]
     },
     "execution_count": 66,
     "metadata": {},
     "output_type": "execute_result"
    }
   ],
   "source": [
    "x_train,x_test,y_train,y_test = train_test_split(x_rus1,y_rus1,random_state=81,test_size=0.3)\n",
    "vote = VotingClassifier(estimators=[('xgb', xgb),('grad', grd),('logi', logi),('mlp', mlp),('svm', svm)])\n",
    "vote.fit(x_train, y_train)"
   ]
  },
  {
   "cell_type": "code",
   "execution_count": 67,
   "id": "1096cc39",
   "metadata": {},
   "outputs": [
    {
     "name": "stdout",
     "output_type": "stream",
     "text": [
      "\n",
      "0.49731369017380195\n",
      "-x--x--x--x--x--x--x--x--x--x--x--x--x--x--x--x--x--x--x--x-\n",
      "0.4853448275862069\n"
     ]
    }
   ],
   "source": [
    "train_pred = vote.predict(x_train)\n",
    "test_pred = vote.predict(x_test)\n",
    "print()\n",
    "print(accuracy_score(train_pred,y_train))\n",
    "print('-x-'*20)\n",
    "print(accuracy_score(test_pred,y_test))"
   ]
  },
  {
   "cell_type": "code",
   "execution_count": 23,
   "id": "6cce7701",
   "metadata": {},
   "outputs": [],
   "source": [
    "import lightgbm as lgb"
   ]
  },
  {
   "cell_type": "code",
   "execution_count": 56,
   "id": "327dc4f6",
   "metadata": {},
   "outputs": [
    {
     "data": {
      "text/html": [
       "<style>#sk-container-id-7 {color: black;background-color: white;}#sk-container-id-7 pre{padding: 0;}#sk-container-id-7 div.sk-toggleable {background-color: white;}#sk-container-id-7 label.sk-toggleable__label {cursor: pointer;display: block;width: 100%;margin-bottom: 0;padding: 0.3em;box-sizing: border-box;text-align: center;}#sk-container-id-7 label.sk-toggleable__label-arrow:before {content: \"▸\";float: left;margin-right: 0.25em;color: #696969;}#sk-container-id-7 label.sk-toggleable__label-arrow:hover:before {color: black;}#sk-container-id-7 div.sk-estimator:hover label.sk-toggleable__label-arrow:before {color: black;}#sk-container-id-7 div.sk-toggleable__content {max-height: 0;max-width: 0;overflow: hidden;text-align: left;background-color: #f0f8ff;}#sk-container-id-7 div.sk-toggleable__content pre {margin: 0.2em;color: black;border-radius: 0.25em;background-color: #f0f8ff;}#sk-container-id-7 input.sk-toggleable__control:checked~div.sk-toggleable__content {max-height: 200px;max-width: 100%;overflow: auto;}#sk-container-id-7 input.sk-toggleable__control:checked~label.sk-toggleable__label-arrow:before {content: \"▾\";}#sk-container-id-7 div.sk-estimator input.sk-toggleable__control:checked~label.sk-toggleable__label {background-color: #d4ebff;}#sk-container-id-7 div.sk-label input.sk-toggleable__control:checked~label.sk-toggleable__label {background-color: #d4ebff;}#sk-container-id-7 input.sk-hidden--visually {border: 0;clip: rect(1px 1px 1px 1px);clip: rect(1px, 1px, 1px, 1px);height: 1px;margin: -1px;overflow: hidden;padding: 0;position: absolute;width: 1px;}#sk-container-id-7 div.sk-estimator {font-family: monospace;background-color: #f0f8ff;border: 1px dotted black;border-radius: 0.25em;box-sizing: border-box;margin-bottom: 0.5em;}#sk-container-id-7 div.sk-estimator:hover {background-color: #d4ebff;}#sk-container-id-7 div.sk-parallel-item::after {content: \"\";width: 100%;border-bottom: 1px solid gray;flex-grow: 1;}#sk-container-id-7 div.sk-label:hover label.sk-toggleable__label {background-color: #d4ebff;}#sk-container-id-7 div.sk-serial::before {content: \"\";position: absolute;border-left: 1px solid gray;box-sizing: border-box;top: 0;bottom: 0;left: 50%;z-index: 0;}#sk-container-id-7 div.sk-serial {display: flex;flex-direction: column;align-items: center;background-color: white;padding-right: 0.2em;padding-left: 0.2em;position: relative;}#sk-container-id-7 div.sk-item {position: relative;z-index: 1;}#sk-container-id-7 div.sk-parallel {display: flex;align-items: stretch;justify-content: center;background-color: white;position: relative;}#sk-container-id-7 div.sk-item::before, #sk-container-id-7 div.sk-parallel-item::before {content: \"\";position: absolute;border-left: 1px solid gray;box-sizing: border-box;top: 0;bottom: 0;left: 50%;z-index: -1;}#sk-container-id-7 div.sk-parallel-item {display: flex;flex-direction: column;z-index: 1;position: relative;background-color: white;}#sk-container-id-7 div.sk-parallel-item:first-child::after {align-self: flex-end;width: 50%;}#sk-container-id-7 div.sk-parallel-item:last-child::after {align-self: flex-start;width: 50%;}#sk-container-id-7 div.sk-parallel-item:only-child::after {width: 0;}#sk-container-id-7 div.sk-dashed-wrapped {border: 1px dashed gray;margin: 0 0.4em 0.5em 0.4em;box-sizing: border-box;padding-bottom: 0.4em;background-color: white;}#sk-container-id-7 div.sk-label label {font-family: monospace;font-weight: bold;display: inline-block;line-height: 1.2em;}#sk-container-id-7 div.sk-label-container {text-align: center;}#sk-container-id-7 div.sk-container {/* jupyter's `normalize.less` sets `[hidden] { display: none; }` but bootstrap.min.css set `[hidden] { display: none !important; }` so we also need the `!important` here to be able to override the default hidden behavior on the sphinx rendered scikit-learn.org. See: https://github.com/scikit-learn/scikit-learn/issues/21755 */display: inline-block !important;position: relative;}#sk-container-id-7 div.sk-text-repr-fallback {display: none;}</style><div id=\"sk-container-id-7\" class=\"sk-top-container\"><div class=\"sk-text-repr-fallback\"><pre>MLPClassifier(max_iter=300, random_state=47)</pre><b>In a Jupyter environment, please rerun this cell to show the HTML representation or trust the notebook. <br />On GitHub, the HTML representation is unable to render, please try loading this page with nbviewer.org.</b></div><div class=\"sk-container\" hidden><div class=\"sk-item\"><div class=\"sk-estimator sk-toggleable\"><input class=\"sk-toggleable__control sk-hidden--visually\" id=\"sk-estimator-id-12\" type=\"checkbox\" checked><label for=\"sk-estimator-id-12\" class=\"sk-toggleable__label sk-toggleable__label-arrow\">MLPClassifier</label><div class=\"sk-toggleable__content\"><pre>MLPClassifier(max_iter=300, random_state=47)</pre></div></div></div></div></div>"
      ],
      "text/plain": [
       "MLPClassifier(max_iter=300, random_state=47)"
      ]
     },
     "execution_count": 56,
     "metadata": {},
     "output_type": "execute_result"
    }
   ],
   "source": [
    "light = MLPClassifier(random_state=47, max_iter=300)\n",
    "light.fit(x_train, y_train)"
   ]
  },
  {
   "cell_type": "code",
   "execution_count": 57,
   "id": "17367a71",
   "metadata": {},
   "outputs": [
    {
     "name": "stdout",
     "output_type": "stream",
     "text": [
      "\n",
      "0.4940654874613218\n",
      "-x--x--x--x--x--x--x--x--x--x--x--x--x--x--x--x--x--x--x--x-\n",
      "0.47737068965517243\n"
     ]
    }
   ],
   "source": [
    "train_pred = light.predict(x_train)\n",
    "test_pred = light.predict(x_test)\n",
    "print()\n",
    "print(accuracy_score(train_pred,y_train))\n",
    "print('-x-'*20)\n",
    "print(accuracy_score(test_pred,y_test))"
   ]
  },
  {
   "cell_type": "code",
   "execution_count": null,
   "id": "aedbbe01",
   "metadata": {},
   "outputs": [],
   "source": []
  },
  {
   "cell_type": "code",
   "execution_count": null,
   "id": "ad84d3b6",
   "metadata": {},
   "outputs": [],
   "source": []
  },
  {
   "cell_type": "code",
   "execution_count": null,
   "id": "93a45acc",
   "metadata": {},
   "outputs": [],
   "source": []
  },
  {
   "cell_type": "code",
   "execution_count": null,
   "id": "381e6243",
   "metadata": {},
   "outputs": [],
   "source": []
  },
  {
   "cell_type": "code",
   "execution_count": 70,
   "id": "2ed360fc",
   "metadata": {},
   "outputs": [],
   "source": [
    "def data_prep(df):\n",
    "    df['Temperature (C)'] = np.where(df['Temperature (C)']=='-','-10',df['Temperature (C)'])\n",
    "    lis = df['Temperature (C)']\n",
    "    new = []\n",
    "    for i in lis:\n",
    "        new.append(float(i))\n",
    "    df['Temperature (C)'] = new\n",
    "    x = df.drop(['Day'],axis=1)\n",
    "    from sklearn.model_selection import train_test_split\n",
    "    from sklearn.ensemble import RandomForestClassifier\n",
    "    from sklearn.metrics import classification_report\n",
    "    from sklearn.preprocessing import StandardScaler\n",
    "    scale = StandardScaler()\n",
    "    x[['Apparent Temperature (C)','Humidity','Wind Speed (km/h)','Wind Bearing (degrees)',\n",
    "                             'Visibility (km)',\n",
    "                            'Pressure (millibars)','Solar irradiance intensity','Temperature (C)']]=scale.fit_transform(x[['Apparent Temperature (C)','Humidity','Wind Speed (km/h)','Wind Bearing (degrees)',\n",
    "                             'Visibility (km)',\n",
    "                            'Pressure (millibars)','Solar irradiance intensity','Temperature (C)']])\n",
    "    x = pd.get_dummies(x)\n",
    "    return x"
   ]
  },
  {
   "cell_type": "code",
   "execution_count": 71,
   "id": "edcb887a",
   "metadata": {},
   "outputs": [],
   "source": [
    "test = pd.read_csv('test_CloudCondition.csv')\n",
    "x= data_prep(test)\n",
    "trial01 = vote.predict(x)\n",
    "trial01 = encoder.inverse_transform(trial01)"
   ]
  },
  {
   "cell_type": "code",
   "execution_count": 72,
   "id": "eeefa471",
   "metadata": {},
   "outputs": [],
   "source": [
    "day = pd.read_csv('test_CloudCondition.csv')\n",
    "temp = pd.DataFrame()\n",
    "temp['Day'] = day['Day']\n",
    "temp['Cloud_Condition'] = trial01\n",
    "temp.head()\n",
    "temp.to_csv('trial_FINAL_voteMLP_Chinmay.csv',index=False)"
   ]
  },
  {
   "cell_type": "code",
   "execution_count": 69,
   "id": "cde7d1ee",
   "metadata": {},
   "outputs": [],
   "source": []
  },
  {
   "cell_type": "code",
   "execution_count": 73,
   "id": "721f2e91",
   "metadata": {},
   "outputs": [],
   "source": []
  },
  {
   "cell_type": "code",
   "execution_count": 75,
   "id": "d3193b94",
   "metadata": {},
   "outputs": [],
   "source": []
  },
  {
   "cell_type": "code",
   "execution_count": null,
   "id": "c8c98262",
   "metadata": {},
   "outputs": [],
   "source": []
  }
 ],
 "metadata": {
  "hide_input": false,
  "kernelspec": {
   "display_name": "Python 3 (ipykernel)",
   "language": "python",
   "name": "python3"
  },
  "language_info": {
   "codemirror_mode": {
    "name": "ipython",
    "version": 3
   },
   "file_extension": ".py",
   "mimetype": "text/x-python",
   "name": "python",
   "nbconvert_exporter": "python",
   "pygments_lexer": "ipython3",
   "version": "3.9.12"
  }
 },
 "nbformat": 4,
 "nbformat_minor": 5
}
